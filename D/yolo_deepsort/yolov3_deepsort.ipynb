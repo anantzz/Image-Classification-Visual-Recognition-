{
  "cells": [
    {
      "cell_type": "code",
      "source": [
        "import torch\n",
        "import torchvision\n",
        "import cv2\n",
        "from PIL import Image\n",
        "from torchvision import transforms as T\n",
        "import numpy as np"
      ],
      "metadata": {
        "id": "WsCLHnrrIzjs"
      },
      "execution_count": 33,
      "outputs": []
    },
    {
      "cell_type": "code",
      "source": [
        "if torch.cuda.is_available():\n",
        "    device = torch.device('cuda')\n",
        "# if torch.backends.mps.is_available():\n",
        "#     device = torch.device(\"mps\")\n",
        "else:\n",
        "    device = torch.device('cpu')"
      ],
      "metadata": {
        "id": "Ij3wpkwlMfUQ"
      },
      "execution_count": 34,
      "outputs": []
    },
    {
      "cell_type": "code",
      "source": [
        "# # Model\n",
        "model = torch.hub.load('ultralytics/yolov5', 'yolov5s', pretrained=True).to(device)"
      ],
      "metadata": {
        "colab": {
          "base_uri": "https://localhost:8080/"
        },
        "id": "UE8E31GVJK3H",
        "outputId": "638946cf-3203-4ec8-9151-f93ad9c2a4c0"
      },
      "execution_count": 35,
      "outputs": [
        {
          "output_type": "stream",
          "name": "stderr",
          "text": [
            "Using cache found in /root/.cache/torch/hub/ultralytics_yolov5_master\n",
            "YOLOv5 🚀 2024-3-22 Python-3.10.12 torch-2.2.1+cu121 CUDA:0 (Tesla T4, 15102MiB)\n",
            "\n",
            "Fusing layers... \n",
            "YOLOv5s summary: 213 layers, 7225885 parameters, 0 gradients, 16.4 GFLOPs\n",
            "Adding AutoShape... \n"
          ]
        }
      ]
    },
    {
      "cell_type": "code",
      "source": [
        "!pip install deep-sort-realtime"
      ],
      "metadata": {
        "colab": {
          "base_uri": "https://localhost:8080/"
        },
        "id": "k0DWy5UhKm8i",
        "outputId": "7dd50267-75f5-49b6-83da-4662cb2e60ba"
      },
      "execution_count": 36,
      "outputs": [
        {
          "output_type": "stream",
          "name": "stdout",
          "text": [
            "Requirement already satisfied: deep-sort-realtime in /usr/local/lib/python3.10/dist-packages (1.3.2)\n",
            "Requirement already satisfied: numpy in /usr/local/lib/python3.10/dist-packages (from deep-sort-realtime) (1.25.2)\n",
            "Requirement already satisfied: scipy in /usr/local/lib/python3.10/dist-packages (from deep-sort-realtime) (1.11.4)\n",
            "Requirement already satisfied: opencv-python in /usr/local/lib/python3.10/dist-packages (from deep-sort-realtime) (4.8.0.76)\n"
          ]
        }
      ]
    },
    {
      "cell_type": "code",
      "source": [
        "from deep_sort_realtime.deepsort_tracker import DeepSort"
      ],
      "metadata": {
        "id": "Xeg_8l5bKocI"
      },
      "execution_count": 37,
      "outputs": []
    },
    {
      "cell_type": "code",
      "source": [
        "object_tracker = DeepSort(max_iou_distance=0.2,max_age=250,nms_max_overlap = 0.05,gating_only_position=True,n_init=2,max_cosine_distance=0.9)"
      ],
      "metadata": {
        "id": "Nh4jND65KqLY"
      },
      "execution_count": 38,
      "outputs": []
    },
    {
      "cell_type": "code",
      "source": [
        "confidence_threshold = 0.5\n",
        "object_type = ['car']\n",
        "nms_threshold = 0.3"
      ],
      "metadata": {
        "id": "4X6oVgf6JTb7"
      },
      "execution_count": 39,
      "outputs": []
    },
    {
      "cell_type": "code",
      "source": [
        "import time\n",
        "count = 0\n",
        "lst = []"
      ],
      "metadata": {
        "id": "x6Pk7HInJfJ3"
      },
      "execution_count": 40,
      "outputs": []
    },
    {
      "cell_type": "code",
      "source": [],
      "metadata": {
        "id": "7wS1KqAuI1SQ"
      },
      "execution_count": 40,
      "outputs": []
    },
    {
      "cell_type": "code",
      "source": [
        "count = 0\n",
        "lst = []\n",
        "car_id = 2\n",
        "confidence_threshold = 0.6\n",
        "object_type = ['car']\n",
        "\n",
        "cap = cv2.VideoCapture('try.mp4')\n",
        "\n",
        "width = int(cap.get(3))\n",
        "height = int(cap.get(4))\n",
        "\n",
        "\n",
        "out = cv2.VideoWriter('try.mp4', cv2.VideoWriter_fourcc(*'mp4v'), 25, (width, height))\n",
        "\n",
        "model.eval()\n",
        "\n",
        "while cap.isOpened():\n",
        "    # Read the next frame\n",
        "    ret, frame = cap.read()\n",
        "    start = time.perf_counter()\n",
        "    # Check EOF\n",
        "    if not ret:\n",
        "        print(\"NOPE\")\n",
        "        break\n",
        "    #prediction YOLO\n",
        "    with torch.no_grad():\n",
        "      pred = model(frame)\n",
        "\n",
        "    detections = []\n",
        "    for detection in pred.xyxy[0]:\n",
        "        class_id = int(detection[5])\n",
        "        confidence = detection[4]\n",
        "        if confidence> confidence_threshold and class_id ==car_id:\n",
        "            x_min,y_min,x_max,y_max = detection[:4].cpu().detach().numpy().astype('int')\n",
        "            x,y,w,h = [x_min,y_min,int(x_max-x_min),int(y_max-y_min)]\n",
        "            cv2.rectangle(frame,(int(x_min), int(y_min)),(int(x_max), int(y_max)),(0,0,255),2)\n",
        "            detections.append(([x,y,w,h],confidence,'car'))\n",
        "\n",
        "    tracks = object_tracker.update_tracks(detections, frame=frame)\n",
        "    for track in tracks:\n",
        "        if not track.is_confirmed():\n",
        "            continue\n",
        "        track_id = track.track_id\n",
        "        ltrb = track.to_ltrb()\n",
        "        bbox = ltrb\n",
        "\n",
        "\n",
        "    count = object_tracker.tracker._next_id-1\n",
        "    cv2.putText(frame, f'Count: {int(count)}', (20,200), cv2.FONT_HERSHEY_SIMPLEX, 1.5, (0,255,0), 2)\n",
        "\n",
        "    out.write(frame)\n",
        "out.release()\n",
        "print(count)"
      ],
      "metadata": {
        "id": "cB3Hs-66IAlj",
        "colab": {
          "base_uri": "https://localhost:8080/"
        },
        "outputId": "dd36f8fc-4da6-4b0b-94e4-a6123cdd47ed"
      },
      "execution_count": 41,
      "outputs": [
        {
          "output_type": "stream",
          "name": "stdout",
          "text": [
            "NOPE\n",
            "0\n"
          ]
        }
      ]
    }
  ],
  "metadata": {
    "kernelspec": {
      "display_name": "Python 3",
      "name": "python3"
    },
    "language_info": {
      "name": "python"
    },
    "colab": {
      "provenance": []
    },
    "gpuClass": "standard",
    "accelerator": "GPU"
  },
  "nbformat": 4,
  "nbformat_minor": 0
}